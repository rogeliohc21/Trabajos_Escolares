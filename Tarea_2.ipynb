{
  "nbformat": 4,
  "nbformat_minor": 0,
  "metadata": {
    "colab": {
      "provenance": []
    },
    "kernelspec": {
      "name": "python3",
      "display_name": "Python 3"
    },
    "language_info": {
      "name": "python"
    }
  },
  "cells": [
    {
      "cell_type": "markdown",
      "source": [
        "# Meses del año"
      ],
      "metadata": {
        "id": "GA7xMuYaTB-E"
      }
    },
    {
      "cell_type": "code",
      "execution_count": null,
      "metadata": {
        "colab": {
          "base_uri": "https://localhost:8080/"
        },
        "id": "6tH_BM1DSmCR",
        "outputId": "2b30aee0-e2c9-42ae-d3d8-a3eafac627b8"
      },
      "outputs": [
        {
          "output_type": "stream",
          "name": "stdout",
          "text": [
            "INGRESA UN NUMERO DEL 1 AL 12\n",
            "  4\n",
            "_*_*_*_*_*_*_*_*_*_*_*_*_*_*_*_*\n",
            " EL MES CORRESPONDIENTE ES: \n",
            " ABRIL \n"
          ]
        }
      ],
      "source": [
        "print(\"INGRESA UN NUMERO DEL 1 AL 12\")\n",
        "numero=int(input(\"  \"))\n",
        "print(\"_*_*\"*8)\n",
        "print(\" EL MES CORRESPONDIENTE ES: \")\n",
        "if numero == 1:\n",
        "  print(\" ENERO \")\n",
        "elif numero == 2:\n",
        "  print( \" FEBRERO \")\n",
        "elif numero == 3:\n",
        "  print( \" MARZO \")\n",
        "elif numero == 4:\n",
        "  print( \" ABRIL \")\n",
        "elif numero == 5:\n",
        "  print( \" MAYO \")\n",
        "elif numero == 6:\n",
        "  print( \" JUNIO \")\n",
        "elif numero == 7:\n",
        "  print( \" JULIO \")\n",
        "elif numero == 8:\n",
        "  print( \" AGOSTO \")\n",
        "elif numero == 9:\n",
        "  print( \" SEPTIEMBRE \")\n",
        "elif numero == 10:\n",
        "  print( \" OCTUBRE \")\n",
        "elif numero == 11:\n",
        "  print( \" NOVIEMBRE \")\n",
        "elif numero == 12:\n",
        "  print( \" DICIEMBRE \")\n",
        "else:\n",
        "  print(\" ERROR EN DATOS \")"
      ]
    },
    {
      "cell_type": "markdown",
      "source": [
        "# Pizzeria"
      ],
      "metadata": {
        "id": "VmN1S4PgXajf"
      }
    },
    {
      "cell_type": "code",
      "source": [
        "print(\"-*-*\"*12)\n",
        "print(\"         *****PIZZERIA MAGDALENA***** \")\n",
        "print(\"-*-*\"*12)\n",
        "print(\"          BIENVENIDO ESCOGE TU PIZZA \")\n",
        "print(\"v= vegetariana \")\n",
        "print(\"c= carnes frias \")\n",
        "print(\"-\"*28)\n",
        "print(\"          ¿QUE PIZZA DESEAS COMPRAR?\" )\n",
        "elec=input(\"\")\n",
        "print(\"          INGREDIENTES PARA LA PIZZA  \")\n",
        "if elec.lower()==\"v\":\n",
        "  print(\"vegetariana\")\n",
        "  print(\"-\"*28)\n",
        "  print(\"           ESCOGE UN INGREDIENTE \")\n",
        "  print(\" p= pimiento \")\n",
        "  print(\" a= aceitunas \")\n",
        "  veg=(input(\"\"))\n",
        "  if veg.lower()==\"p\":\n",
        "    print(\"pimiento\")\n",
        "    print(\" TU ORDEN DE PIZZA ES LA SIGUIENTE: \")\n",
        "    print(\"pizza vegetariana con salsa de tomate, queso mozzarela y pimientos\")\n",
        "  elif veg.lower()==\"a\":\n",
        "   print(\"aceitunas\")\n",
        "   print(\" TU ORDEN DE PIZZA ES LA SIGUIENTE: \")\n",
        "   print(\"pizza vegetariana con salsa de tomate, queso mozzarela y aceitunas\")\n",
        "  else:\n",
        "   print(\"datos erroneos\")\n",
        "elif elec.lower()==\"c\":\n",
        "  print(\"carnes frias\")\n",
        "  print(\"   ESCOGE ALGUNO DE LOS SIGUIENTES INGREDIENTES\")\n",
        "  print(\"p= peperoni\")\n",
        "  print(\"s= salchicha\")\n",
        "  print(\"j= jamon\")\n",
        "  carnes=(input(\"\"))\n",
        "  if carnes.lower()==\"p\":\n",
        "    print(\"peperoni\")\n",
        "    print(\" TU ORDEN DE PIZZA ES LA SIGUIENTE: \")\n",
        "    print(\"pizza de carnes frias con salsa de tomate, queso mozzarela y peperoni\")\n",
        "  elif carnes.lower()==\"s\":\n",
        "    print(\"salchicha\")\n",
        "    print(\" TU ORDEN DE PIZZA ES LA SIGUIENTE: \")\n",
        "    print(\"pizza de carnes frias con salsa de tomate, queso mozzarela y salchicha\")\n",
        "  elif carnes.lower()==\"j\":\n",
        "    print(\"jamon\")\n",
        "    print(\"-\"*30)\n",
        "    print(\" TU ORDEN DE PIZZA ES LA SIGUIENTE: \")\n",
        "    print(\"pizza de carnes frias con salsa de tomate, queso mozzarela y jamon\")\n",
        "else:\n",
        "  print(\"ERROR EN DATOS\")"
      ],
      "metadata": {
        "colab": {
          "base_uri": "https://localhost:8080/"
        },
        "id": "LCuZX54YXjRy",
        "outputId": "e1f0db9a-9f8e-4c28-afb5-6bf3274b3e4f"
      },
      "execution_count": null,
      "outputs": [
        {
          "output_type": "stream",
          "name": "stdout",
          "text": [
            "-*-*-*-*-*-*-*-*-*-*-*-*-*-*-*-*-*-*-*-*-*-*-*-*\n",
            "         *****PIZZERIA MAGDALENA***** \n",
            "-*-*-*-*-*-*-*-*-*-*-*-*-*-*-*-*-*-*-*-*-*-*-*-*\n",
            "          BIENVENIDO ESCOGE TU PIZZA \n",
            "v= vegetariana \n",
            "c= carnes frias \n",
            "----------------------------\n",
            "          ¿QUE PIZZA DESEAS COMPRAR?\n",
            "c\n",
            "          INGREDIENTES PARA LA PIZZA  \n",
            "carnes frias\n",
            "   ESCOGE ALGUNO DE LOS SIGUIENTES INGREDIENTES\n",
            "p= peperoni\n",
            "s= salchicha\n",
            "j= jamon\n",
            "j\n",
            "jamon\n",
            "------------------------------\n",
            " TU ORDEN DE PIZZA ES LA SIGUIENTE: \n",
            "pizza de carnes frias con salsa de tomate, queso mozzarela y jamon\n"
          ]
        }
      ]
    },
    {
      "cell_type": "markdown",
      "source": [
        "# presion atmosferica"
      ],
      "metadata": {
        "id": "WknC3C5AtGAm"
      }
    },
    {
      "cell_type": "code",
      "source": [
        "print(\"PRESION ATMOSFERICA\")\n",
        "print(\"normal = 1 a 99\")\n",
        "print(\"baja   = menor o igual a 0\")\n",
        "print(\"alta   = mayor o igual a 100\")\n",
        "print(\"ingresa temperatura\")\n",
        "temp=float(input())\n",
        "if temp<=0:\n",
        "  print(\"solido\")\n",
        "elif temp >=1 and temp <=99:\n",
        "  print(\"liquido\")\n",
        "elif temp >=100:\n",
        "  print(\"gaseoso\")\n",
        "else:\n",
        "  print(\"error\")"
      ],
      "metadata": {
        "colab": {
          "base_uri": "https://localhost:8080/"
        },
        "id": "4TpgGLlUtLa_",
        "outputId": "ddbefda2-d107-4ad7-9604-a3d8181bf467"
      },
      "execution_count": null,
      "outputs": [
        {
          "output_type": "stream",
          "name": "stdout",
          "text": [
            "PRESION ATMOSFERICA\n",
            "normal = 1 a 99\n",
            "baja   = menor o igual a 0\n",
            "alta   = mayor o igual a 100\n",
            "ingresa temperatura\n",
            "5\n",
            "liquido\n"
          ]
        }
      ]
    }
  ]
}