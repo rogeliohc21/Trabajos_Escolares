{
  "cells": [
    {
      "cell_type": "markdown",
      "metadata": {
        "id": "-u_Y3zly_kZb"
      },
      "source": [
        "# Ejercicio 1\n",
        "## Calcular valor de x"
      ]
    },
    {
      "cell_type": "code",
      "source": [
        "def calcular_x(a, b, c):\n",
        "    x = (a + 4 * c) / b + 4 * (3 * a - 2) / c\n",
        "    return x\n",
        "while True:\n",
        "  try:\n",
        "    a=float(input(\"dame el valor \"))\n",
        "    b=float(input(\"dame el valor \"))\n",
        "    c=float(input(\"dame el valor \"))\n",
        "    break\n",
        "  except ValueError:\n",
        "    print(\"ingresa un numero\")\n",
        "\n",
        "resultado = calcular_x(a, b, c)\n",
        "print(\"El resultado de la expresión es: {:.2f}\".format(resultado))"
      ],
      "metadata": {
        "colab": {
          "base_uri": "https://localhost:8080/"
        },
        "id": "aOASoWLesjfp",
        "outputId": "cd0336aa-ee23-4bc2-f80e-42c0e5af6cdf"
      },
      "execution_count": 17,
      "outputs": [
        {
          "output_type": "stream",
          "name": "stdout",
          "text": [
            "dame el valor 7\n",
            "dame el valor 7\n",
            "dame el valor 7\n",
            "El resultado de la expresión es: 15.86\n"
          ]
        }
      ]
    },
    {
      "cell_type": "markdown",
      "source": [
        "# Ejercicio 2\n",
        "## Sueldo del trabajador"
      ],
      "metadata": {
        "id": "EMA9BxtRurHQ"
      }
    },
    {
      "cell_type": "code",
      "source": [
        "print(\"    --------PAGO POR HORA-------- \")\n",
        "print(\"m) matutino   -  150 pesos por hora\")\n",
        "print(\"v) vespertino -  210 pesos por hora\")\n",
        "print(\"n) nocturno   -  280 pesos por hora\")\n",
        "print(\"-\"*50)\n",
        "print(\"   escoge el turno del trabajador   \")\n",
        "turno=input(\"        \")\n",
        "if turno.lower() == \"m\":\n",
        "  print(\"-\"*50)\n",
        "  sueldo= 150\n",
        "  print(\"  digita las horas trabajadas al dia \")\n",
        "  horas=float(input(\"        \"))\n",
        "  print(\"-\"*50)\n",
        "  print(\"   el salario del trabajador es:   \")\n",
        "  total=sueldo*horas\n",
        "  print(            total          )\n",
        "  print(\"-\"*50)\n",
        "elif turno.lower() == \"matutino\":\n",
        "  print(\"-\"*50)\n",
        "  sueldo= 150\n",
        "  print(\"  digita las horas trabajadas al dia \")\n",
        "  horas=float(input(\"        \"))\n",
        "  print(\"-\"*50)\n",
        "  print(\"   el salario del trabajador es:   \")\n",
        "  total=sueldo*horas\n",
        "  print(            total          )\n",
        "  print(\"-\"*50)\n",
        "elif turno.lower() == \"v\":\n",
        "  print(\"-\"*50)\n",
        "  sueldo= 210\n",
        "  print(\"  digita las horas trabajadas al dia \")\n",
        "  horas=float(input(\"        \"))\n",
        "  print(\"-\"*50)\n",
        "  print(\"   el salario del trabajador es:   \")\n",
        "  total=sueldo*horas\n",
        "  print(            total          )\n",
        "  print(\"-\"*50)\n",
        "elif turno.lower() == \"vespertino\":\n",
        "  print(\"-\"*50)\n",
        "  sueldo= 210\n",
        "  print(\"  digita las horas trabajadas al dia \")\n",
        "  horas=float(input(\"        \"))\n",
        "  print(\"-\"*50)\n",
        "  print(\"   el salario del trabajador es:   \")\n",
        "  total=sueldo*horas\n",
        "  print(            total          )\n",
        "  print(\"-\"*50)\n",
        "elif turno.lower() == \"n\":\n",
        "  print(\"-\"*50)\n",
        "  sueldo= 280\n",
        "  print(\"  digita las horas trabajadas al dia \")\n",
        "  horas=float(input(\"        \"))\n",
        "  print(\"-\"*50)\n",
        "  print(\"   el salario del trabajador es:   \")\n",
        "  total=sueldo*horas\n",
        "  print(            total          )\n",
        "  print(\"-\"*50)\n",
        "elif turno.lower() == \"nocturno\":\n",
        "  print(\"-\"*50)\n",
        "  sueldo= 280\n",
        "  print(\"  digita las horas trabajadas al dia \")\n",
        "  horas=float(input(\"        \"))\n",
        "  print(\"-\"*50)\n",
        "  print(\"   el salario del trabajador es:   \")\n",
        "  total=sueldo*horas\n",
        "  print(            total          )\n",
        "  print(\"-\"*50)\n",
        "else:\n",
        "  print(\" ERROR \")"
      ],
      "metadata": {
        "colab": {
          "base_uri": "https://localhost:8080/"
        },
        "id": "RpdN1PgI-XfF",
        "outputId": "d1db0ff2-d1ab-4c38-ec38-852e325f61fb"
      },
      "execution_count": null,
      "outputs": [
        {
          "output_type": "stream",
          "name": "stdout",
          "text": [
            "    --------PAGO POR HORA-------- \n",
            "m) matutino   -  150 pesos por hora\n",
            "v) vespertino -  210 pesos por hora\n",
            "n) nocturno   -  280 pesos por hora\n",
            "--------------------------------------------------\n",
            "   escoge el turno del trabajador   \n",
            "        m\n",
            "--------------------------------------------------\n",
            "  digita las horas trabajadas al dia \n",
            "        5\n",
            "--------------------------------------------------\n",
            "   el salario del trabajador es:   \n",
            "750.0\n",
            "--------------------------------------------------\n"
          ]
        }
      ]
    },
    {
      "cell_type": "markdown",
      "source": [
        "# Formula\n",
        "## calcula; masa, aceleracion y fuerza"
      ],
      "metadata": {
        "id": "iCKrl1fR-xaK"
      }
    },
    {
      "cell_type": "code",
      "source": [
        "print(\"=_=\"*18)\n",
        "print(\"      *************** FORMULA ***************      \")\n",
        "print(\"=_=\"*18)\n",
        "print(\"f)  calcula fuerza  \")\n",
        "print(\"m)  calcula masa    \")\n",
        "print(\"a)  calcula aceleracion\")\n",
        "print(\"=*=\"*18)\n",
        "print(\"              ¿Que quieres calcular?               \")\n",
        "calculo=input(\"              \")\n",
        "if calculo.lower()== \"f\":\n",
        "  print(\"                  f = m * a                      \")\n",
        "elif calculo.lower()== \"fuerza\":\n",
        "  print(\"                  f = m * a                      \")\n",
        "elif calculo.lower()== \"m\":\n",
        "  print(\"                  m = f / a                      \")\n",
        "elif calculo.lower()== \"masa\":\n",
        "  print(\"                  m = f / a                      \")\n",
        "elif calculo.lower()== \"a\":\n",
        "  print(\"                  a = f / m                      \")\n",
        "elif calculo.lower()== \"aceleracion\":\n",
        "  print(\"                  a = f / m                      \")\n",
        "else:\n",
        "  print(\"          ¡ERROR EN LOS DATOS INGRESADOS!          \")\n",
        "print(\"-\"*55)\n",
        "if calculo.lower()== \"f\":\n",
        "  print(\"             ingresa el valor de masa              \")\n",
        "  masa=float(input(\"              \"))\n",
        "  print(\"          ingresa el valor de aceleracion          \")\n",
        "  aceleracion=float(input(\"              \"))\n",
        "  print(\"-\"*55)\n",
        "  print(\"                    RESULTADO                         \")\n",
        "  fuerza=masa*aceleracion\n",
        "  print(\"                fuerza es igual a:             \")\n",
        "  print(           fuerza, \"N\"              )\n",
        "elif calculo.lower()== \"fuerza\":\n",
        "  print(\"             ingresa el valor de masa              \")\n",
        "  masa=float(input(\"              \"))\n",
        "  print(\"          ingresa el valor de aceleracion          \")\n",
        "  aceleracion=float(input(\"              \"))\n",
        "  print(\"-\"*55)\n",
        "  print(\"                    RESULTADO                         \")\n",
        "  fuerza=masa*aceleracion\n",
        "  print(\"                fuerza es igual a:             \")\n",
        "  print(           fuerza, \"N\"              )\n",
        "elif calculo.lower()== \"m\":\n",
        "  print(\"             ingresa el valor de fuerza              \")\n",
        "  fuerza=float(input(\"              \"))\n",
        "  print(\"          ingresa el valor de aceleracion          \")\n",
        "  aceleracion=float(input(\"              \"))\n",
        "  print(\"-\"*55)\n",
        "  print(\"                    RESULTADO                         \")\n",
        "  masa=fuerza/aceleracion\n",
        "  print(\"                masa es igual a:             \")\n",
        "  print(           masa, \"Kg\"              )\n",
        "elif calculo.lower()== \"masa\":\n",
        "  print(\"             ingresa el valor de fuerza              \")\n",
        "  fuerza=float(input(\"              \"))\n",
        "  print(\"          ingresa el valor de aceleracion          \")\n",
        "  aceleracion=float(input(\"              \"))\n",
        "  print(\"-\"*55)\n",
        "  print(\"                    RESULTADO                         \")\n",
        "  masa=fuerza/aceleracion\n",
        "  print(\"                  masa es igual a:             \")\n",
        "  print(           masa, \"Kg\"              )\n",
        "elif calculo.lower()== \"a\":\n",
        "  print(\"             ingresa el valor de fuerza              \")\n",
        "  fuerza=float(input(\"              \"))\n",
        "  print(\"             ingresa el valor de masa          \")\n",
        "  masa=float(input(\"              \"))\n",
        "  print(\"-\"*55)\n",
        "  print(\"                    RESULTADO                         \")\n",
        "  aceleracion=fuerza/masa\n",
        "  print(\"              aceleracion es igual a:             \")\n",
        "  print(           aceleracion, \"m/s**2\"              )\n",
        "elif calculo.lower()== \"aceleracion\":\n",
        "  print(\"             ingresa el valor de fuerza              \")\n",
        "  fuerza=float(input(\"              \"))\n",
        "  print(\"             ingresa el valor de masa          \")\n",
        "  masa=float(input(\"              \"))\n",
        "  print(\"-\"*55)\n",
        "  print(\"                    RESULTADO                         \")\n",
        "  aceleracion=fuerza/masa\n",
        "  print(\"              aceleracion es igual a:             \")\n",
        "  print(           aceleracion, \"m/s**2\"              )\n",
        "else:\n",
        "  print(\"              ¡ERROR! VERIFICAR DATOS     \")"
      ],
      "metadata": {
        "colab": {
          "base_uri": "https://localhost:8080/"
        },
        "id": "NKtomfpd_KoY",
        "outputId": "f7218c58-57ce-4653-cb3d-cbc9b1e5ddaf"
      },
      "execution_count": null,
      "outputs": [
        {
          "output_type": "stream",
          "name": "stdout",
          "text": [
            "=_==_==_==_==_==_==_==_==_==_==_==_==_==_==_==_==_==_=\n",
            "      *************** FORMULA ***************      \n",
            "=_==_==_==_==_==_==_==_==_==_==_==_==_==_==_==_==_==_=\n",
            "f)  calcula fuerza  \n",
            "m)  calcula masa    \n",
            "a)  calcula aceleracion\n",
            "=*==*==*==*==*==*==*==*==*==*==*==*==*==*==*==*==*==*=\n",
            "              ¿Que quieres calcular?               \n",
            "              F\n",
            "                  f = m * a                      \n",
            "-------------------------------------------------------\n",
            "             ingresa el valor de masa              \n",
            "              8\n",
            "          ingresa el valor de aceleracion          \n",
            "              16\n",
            "-------------------------------------------------------\n",
            "                    RESULTADO                         \n",
            "                fuerza es igual a:             \n",
            "128.0 N\n"
          ]
        }
      ]
    },
    {
      "cell_type": "markdown",
      "source": [
        "# Compra una casa\n",
        "## calculo de enganche y total a pagar a 12 meses"
      ],
      "metadata": {
        "id": "s8JDjKXYAAjS"
      }
    },
    {
      "cell_type": "code",
      "source": [
        "print(\"=_=\"*22)\n",
        "print(\"************ CALCULADORA PARA COMPRAR  CASA ************\")\n",
        "print(\"=_=\"*22)\n",
        "print(\"                     TIPO DE CASA                       \")\n",
        "print(\"-_-\"*22)\n",
        "print(\" a) - casa con valor de: $ 1,000,000 \")\n",
        "print(\" b) - casa con valor de: $ 1,500,000 \")\n",
        "print(\"-_-\"*22)\n",
        "print(\"              ESCOGE EL VALOR DE TU VIVIENDA            \")\n",
        "valor=input(\"                 \")\n",
        "if  valor.lower() == \"a\":\n",
        "  print(\"              ENGANCHE REQUERIDO DEL 30%              \")\n",
        "  enganche=1000000*30/100\n",
        "  print(\"               $\", enganche         )\n",
        "  print(\"-\"*65)\n",
        "  print(\"            TOTAL A PAGAR DESPUES DEL ENGANCHE       \")\n",
        "  total=1000000-enganche\n",
        "  print(\"               $\", total            )\n",
        "  print(\"                12 PAGOS MENSUALES DE:               \")\n",
        "  mensualidad=total/12\n",
        "  print(\"               $\", mensualidad      )\n",
        "elif valor.lower() == \"b\":\n",
        "  print(\"              ENGANCHE REQUERIDO DEL 30%             \")\n",
        "  enganche=1500000*30/100\n",
        "  print(\"               $\", enganche          )\n",
        "  print(\"-\"*65)\n",
        "  print(\"            TOTAL A PAGAR DESPUES DEL ENGANCHE      \")\n",
        "  total=1500000-enganche\n",
        "  print(\"               $\", total             )\n",
        "  print(\"                12 PAGOS MENSUALES DE:              \")\n",
        "  mensualidad=total/12\n",
        "  print(\"               $\", mensualidad       )\n",
        "else:\n",
        "   print(\"                      ERROR                       \")"
      ],
      "metadata": {
        "id": "nILAX0IrAP04",
        "colab": {
          "base_uri": "https://localhost:8080/"
        },
        "outputId": "a62f4843-7afe-4015-aadd-1b504b4ebcfa"
      },
      "execution_count": null,
      "outputs": [
        {
          "output_type": "stream",
          "name": "stdout",
          "text": [
            "=_==_==_==_==_==_==_==_==_==_==_==_==_==_==_==_==_==_==_==_==_==_=\n",
            "************ CALCULADORA PARA COMPRAR  CASA ************\n",
            "=_==_==_==_==_==_==_==_==_==_==_==_==_==_==_==_==_==_==_==_==_==_=\n",
            "                     TIPO DE CASA                       \n",
            "-_--_--_--_--_--_--_--_--_--_--_--_--_--_--_--_--_--_--_--_--_--_-\n",
            " a) - casa con valor de: $ 1,000,000 \n",
            " b) - casa con valor de: $ 1,500,000 \n",
            "-_--_--_--_--_--_--_--_--_--_--_--_--_--_--_--_--_--_--_--_--_--_-\n",
            "              ESCOGE EL VALOR DE TU VIVIENDA            \n",
            "                 a\n",
            "              ENGANCHE REQUERIDO DEL 30%              \n",
            "               $ 300000.0\n",
            "-----------------------------------------------------------------\n",
            "            TOTAL A PAGAR DESPUES DEL ENGANCHE       \n",
            "               $ 700000.0\n",
            "                12 PAGOS MENSUALES DE:               \n",
            "               $ 58333.333333333336\n"
          ]
        }
      ]
    },
    {
      "cell_type": "markdown",
      "source": [
        "# Aplicacion\n",
        "## calculo de colegiaturas"
      ],
      "metadata": {
        "id": "jaLo3ACVmDJw"
      }
    },
    {
      "cell_type": "code",
      "source": [
        "print(\"_*_\"*20)\n",
        "print(\"                   COSTO DE LA COLEGIATURA       \")\n",
        "print(\"_*_\"*20)\n",
        "print(\"                   INGRESA LA COLEGIATURA        \")\n",
        "colegiatura=float(input(\"                   \"))\n",
        "print(\"              INGRESA EL PORCENTAJE DE LA BECA   \")\n",
        "desc=float(input(\"                   \"))\n",
        "descuento=colegiatura*desc/100\n",
        "print(\"-\"*60)\n",
        "print(\"                       TOTAL A PAGAR             \")\n",
        "total=colegiatura-descuento\n",
        "print(\"                        $\", total)"
      ],
      "metadata": {
        "colab": {
          "base_uri": "https://localhost:8080/"
        },
        "id": "wmwzdKaUme3V",
        "outputId": "229a0cd6-cca5-4b61-a1dd-e0e3eeacfe5a"
      },
      "execution_count": null,
      "outputs": [
        {
          "output_type": "stream",
          "name": "stdout",
          "text": [
            "_*__*__*__*__*__*__*__*__*__*__*__*__*__*__*__*__*__*__*__*_\n",
            "                   COSTO DE LA COLEGIATURA       \n",
            "_*__*__*__*__*__*__*__*__*__*__*__*__*__*__*__*__*__*__*__*_\n",
            "                   INGRESA LA COLEGIATURA        \n",
            "                   1000\n",
            "              INGRESA EL PORCENTAJE DE LA BECA   \n",
            "                   70\n",
            "------------------------------------------------------------\n",
            "                       TOTAL A PAGAR             \n",
            "                        $ 300.0\n"
          ]
        }
      ]
    }
  ],
  "metadata": {
    "colab": {
      "provenance": []
    },
    "kernelspec": {
      "display_name": "Python 3",
      "name": "python3"
    },
    "language_info": {
      "name": "python"
    }
  },
  "nbformat": 4,
  "nbformat_minor": 0
}