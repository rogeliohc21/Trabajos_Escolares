{
  "nbformat": 4,
  "nbformat_minor": 0,
  "metadata": {
    "colab": {
      "provenance": []
    },
    "kernelspec": {
      "name": "python3",
      "display_name": "Python 3"
    },
    "language_info": {
      "name": "python"
    }
  },
  "cells": [
    {
      "cell_type": "markdown",
      "source": [
        "# Promedio"
      ],
      "metadata": {
        "id": "m7X4wYSBv52Y"
      }
    },
    {
      "cell_type": "code",
      "execution_count": null,
      "metadata": {
        "colab": {
          "base_uri": "https://localhost:8080/"
        },
        "id": "1KjM6zxivX-5",
        "outputId": "772cf19f-150c-4fc0-a8bd-36fc85ed59d3"
      },
      "outputs": [
        {
          "output_type": "stream",
          "name": "stdout",
          "text": [
            "-.-.-.-.-.-.-.-.-.-.-.-.-.-.-.-.-.-.-.-.\n",
            "           PROMEDIO ESCOLAR     \n",
            "-.-.-.-.-.-.-.-.-.-.-.-.-.-.-.-.-.-.-.-.\n",
            "        5\n",
            "        5\n",
            "        5\n",
            "total de las tres calificaciones  15.0\n",
            " tu promedio es:  5.0\n",
            "-.-.-.-.-.-.-.-.-.-.-.-.-.-.-.-.-.-.-.-.\n",
            "            REPROBASTE \n"
          ]
        }
      ],
      "source": [
        "print(\"-.-.\"*10)\n",
        "print(\"           PROMEDIO ESCOLAR     \")\n",
        "print(\"-.-.\"*10)\n",
        "calif1=float(input(\"        \"))\n",
        "calif2=float(input(\"        \"))\n",
        "calif3=float(input(\"        \"))\n",
        "total=calif1+calif2+calif3\n",
        "print(\"total de las tres calificaciones \", total)\n",
        "promedio=total/3\n",
        "print(\" tu promedio es: \", promedio)\n",
        "print(\"-.-.\"*10)\n",
        "if promedio >=7:\n",
        "  print(\"            APROBADO \")\n",
        "else:\n",
        "  print(\"            REPROBASTE \")\n"
      ]
    },
    {
      "cell_type": "markdown",
      "source": [
        "# 2 numeros"
      ],
      "metadata": {
        "id": "hZsVX4GU2gi0"
      }
    },
    {
      "cell_type": "code",
      "source": [
        "x=float(input(\" dame un numero: \"))\n",
        "y=float(input(\" dame un numero: \"))\n",
        "if x>= y:\n",
        "  print(\" ES MAYOR \")\n",
        "elif x<= y:\n",
        "  print(\" ES MENOR \")\n",
        "else:\n",
        "  print(\"revisar valor\")\n"
      ],
      "metadata": {
        "colab": {
          "base_uri": "https://localhost:8080/"
        },
        "id": "UI22ePk92qG_",
        "outputId": "fd53e37c-cbc6-4c43-e904-b40d6cccc449"
      },
      "execution_count": null,
      "outputs": [
        {
          "output_type": "stream",
          "name": "stdout",
          "text": [
            " dame un numero: 40\n",
            " dame un numero: 34\n",
            " ES MAYOR \n"
          ]
        }
      ]
    }
  ]
}