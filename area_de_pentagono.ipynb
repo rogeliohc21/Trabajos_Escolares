{
  "nbformat": 4,
  "nbformat_minor": 0,
  "metadata": {
    "colab": {
      "provenance": []
    },
    "kernelspec": {
      "name": "python3",
      "display_name": "Python 3"
    },
    "language_info": {
      "name": "python"
    }
  },
  "cells": [
    {
      "cell_type": "code",
      "source": [
        "l=float(input(\"dame el lado \"))\n",
        "a=(1/4)*(5*(5+2*(5**(1/2))))**(1/2)*(l**2)\n",
        "print(\"el area de un pentagono es \", a)"
      ],
      "metadata": {
        "colab": {
          "base_uri": "https://localhost:8080/"
        },
        "id": "jPmo_Ou207lw",
        "outputId": "8a9de171-baa9-48a1-dccc-ae6b41d1f846"
      },
      "execution_count": null,
      "outputs": [
        {
          "output_type": "stream",
          "name": "stdout",
          "text": [
            "dame el lado 4\n",
            "el area de un pentagono es  27.52763840942347\n"
          ]
        }
      ]
    },
    {
      "cell_type": "code",
      "source": [
        "l=float(input(\"dame el lado \"))\n",
        "a=float(5**(1/2))\n",
        "b=float(5+2*a)\n",
        "c=float(5*b)\n",
        "d=float(c**(1/2))\n",
        "e=float(l**2)\n",
        "f=float(d*e)\n",
        "g=float(1/4*f)\n",
        "print(\"resultado\", a, b, c, d, e, f, g )\n",
        "\n"
      ],
      "metadata": {
        "colab": {
          "base_uri": "https://localhost:8080/"
        },
        "id": "fccQkrHBpONp",
        "outputId": "80bb7df1-391e-4b34-ea88-32e47b9a3bd7"
      },
      "execution_count": null,
      "outputs": [
        {
          "output_type": "stream",
          "name": "stdout",
          "text": [
            "dame el lado 4\n",
            "resultado 2.23606797749979 9.47213595499958 47.3606797749979 6.881909602355868 16.0 110.11055363769388 27.52763840942347\n"
          ]
        }
      ]
    },
    {
      "cell_type": "markdown",
      "source": [
        "#Tarea\n",
        "##Formulas"
      ],
      "metadata": {
        "id": "o-LuAWsG7VqO"
      }
    },
    {
      "cell_type": "code",
      "source": [
        "a=float(input(\"dame el valor a \"))\n",
        "d=(a)*(2**(1/2))\n",
        "print(\"resultado \", d)\n"
      ],
      "metadata": {
        "colab": {
          "base_uri": "https://localhost:8080/"
        },
        "id": "nMCXXi607gUA",
        "outputId": "2314737d-f21f-4d0f-95e3-803adc9ce60c"
      },
      "execution_count": null,
      "outputs": [
        {
          "output_type": "stream",
          "name": "stdout",
          "text": [
            "dame el valor a 8\n",
            "resultado  11.313708498984761\n"
          ]
        }
      ]
    },
    {
      "cell_type": "code",
      "source": [
        "x=(5*5)*(-4)*(5*5)/(4*(5*5))\n",
        "print(\"resultado \", x)\n"
      ],
      "metadata": {
        "colab": {
          "base_uri": "https://localhost:8080/"
        },
        "id": "w_UQxhvX8kFs",
        "outputId": "7416491c-62c6-4727-a86e-fc403be1a8c3"
      },
      "execution_count": null,
      "outputs": [
        {
          "output_type": "stream",
          "name": "stdout",
          "text": [
            "resultado  -25.0\n"
          ]
        }
      ]
    },
    {
      "cell_type": "code",
      "source": [
        "fp=(5**2)+(5-5/2)**2\n",
        "fq=(fp**(1/2))\n",
        "print(\"resultado\", fq)"
      ],
      "metadata": {
        "colab": {
          "base_uri": "https://localhost:8080/"
        },
        "id": "W6rHa7mmDWXW",
        "outputId": "6a683b89-e4cd-44e8-983d-e0dc894b32b5"
      },
      "execution_count": null,
      "outputs": [
        {
          "output_type": "stream",
          "name": "stdout",
          "text": [
            "resultado 5.5901699437494745\n"
          ]
        }
      ]
    }
  ]
}